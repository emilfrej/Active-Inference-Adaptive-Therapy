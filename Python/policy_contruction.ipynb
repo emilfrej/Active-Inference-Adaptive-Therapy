{
 "cells": [
  {
   "cell_type": "code",
   "execution_count": null,
   "metadata": {},
   "outputs": [],
   "source": [
    "policies = []\n",
    "\n",
    "base_policies = [np.zeros((3, 3)), np.ones((3, 3))]\n",
    "\n",
    "product = list(itertools.product([0], [1],  repeat = 3))\n",
    "\n",
    "for i in range(2):\n",
    "    for j in range(2):\n",
    "        for k in range(2):\n",
    "            for l in range(2):\n",
    "                policies.append(np.vstack((base_policies[i], base_policies[j], base_policies[k], base_policies[l])))\n",
    "\n",
    "\n",
    "#or\n",
    "\n",
    "policy_len = 2\n",
    "\n",
    "policies = pymdp.control.construct_policies(num_states= [6], num_controls = [2], policy_len=policy_len, control_fac_idx= [0])\n",
    "\n",
    "for i, pol_i in enumerate(policies):\n",
    "    policies[i] = (np.hstack((pol_i, pol_i, pol_i)))\n",
    "\n"
   ]
  }
 ],
 "metadata": {
  "language_info": {
   "name": "python"
  }
 },
 "nbformat": 4,
 "nbformat_minor": 2
}
