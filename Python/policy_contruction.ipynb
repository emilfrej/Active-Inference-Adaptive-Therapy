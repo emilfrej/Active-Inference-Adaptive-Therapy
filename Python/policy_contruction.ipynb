{
 "cells": [
  {
   "cell_type": "code",
   "execution_count": null,
   "metadata": {},
   "outputs": [],
   "source": [
    "policies = []\n",
    "\n",
    "base_policies = [np.zeros((3, 3)), np.ones((3, 3))]\n",
    "\n",
    "product = list(itertools.product([0], [1],  repeat = 3))\n",
    "\n",
    "for i in range(2):\n",
    "    for j in range(2):\n",
    "        for k in range(2):\n",
    "            for l in range(2):\n",
    "                policies.append(np.vstack((base_policies[i], base_policies[j], base_policies[k], base_policies[l])))\n",
    "\n"
   ]
  }
 ],
 "metadata": {
  "language_info": {
   "name": "python"
  }
 },
 "nbformat": 4,
 "nbformat_minor": 2
}
