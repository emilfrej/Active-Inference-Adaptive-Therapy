{
 "cells": [
  {
   "cell_type": "code",
   "execution_count": 14,
   "metadata": {},
   "outputs": [],
   "source": [
    "from pymdp import utils\n",
    "from pymdp.maths import softmax\n",
    "import numpy as np\n",
    "import matplotlib.pyplot as plt\n",
    "import seaborn as sns\n",
    "import itertools\n",
    "import pandas as pd"
   ]
  },
  {
   "cell_type": "code",
   "execution_count": 15,
   "metadata": {},
   "outputs": [],
   "source": [
    "def plot_likelihood(matrix, xlabels = list(range(9)), ylabels = list(range(9)), title_str = \"Likelihood distribution (A)\"):\n",
    "    \"\"\"\n",
    "    Plots a 2-D likelihood matrix as a heatmap\n",
    "    \"\"\"\n",
    "\n",
    "    if not np.isclose(matrix.sum(axis=0), 1.0).all():\n",
    "      raise ValueError(\"Distribution not column-normalized! Please normalize (ensure matrix.sum(axis=0) == 1.0 for all columns)\")\n",
    "    \n",
    "    fig = plt.figure(figsize = (6,6))\n",
    "    ax = sns.heatmap(matrix, xticklabels = xlabels, yticklabels = ylabels, cmap = 'gray', cbar = False, vmin = 0.0, vmax = 1.0)\n",
    "    plt.title(title_str)\n",
    "    plt.show()\n",
    "\n",
    "def plot_grid(grid_locations, num_x = 3, num_y = 3 ):\n",
    "    \"\"\"\n",
    "    Plots the spatial coordinates of GridWorld as a heatmap, with each (X, Y) coordinate \n",
    "    labeled with its linear index (its `state id`)\n",
    "    \"\"\"\n",
    "\n",
    "    grid_heatmap = np.zeros((num_x, num_y))\n",
    "    for linear_idx, location in enumerate(grid_locations):\n",
    "      y, x = location\n",
    "      grid_heatmap[y, x] = linear_idx\n",
    "    sns.set(font_scale=1.5)\n",
    "    sns.heatmap(grid_heatmap, annot=True, cbar = False, fmt='.0f', cmap='crest')\n",
    "\n",
    "def plot_point_on_grid(state_vector, grid_locations):\n",
    "    \"\"\"\n",
    "    Plots the current location of the agent on the grid world\n",
    "    \"\"\"\n",
    "    state_index = np.where(state_vector)[0][0]\n",
    "    y, x = grid_locations[state_index]\n",
    "    grid_heatmap = np.zeros((3,3))\n",
    "    grid_heatmap[y,x] = 1.0\n",
    "    sns.heatmap(grid_heatmap, cbar = False, fmt='.0f')\n",
    "\n",
    "def plot_beliefs(belief_dist, title_str=\"\"):\n",
    "    \"\"\"\n",
    "    Plot a categorical distribution or belief distribution, stored in the 1-D numpy vector `belief_dist`\n",
    "    \"\"\"\n",
    "\n",
    "    if not np.isclose(belief_dist.sum(), 1.0):\n",
    "      raise ValueError(\"Distribution not normalized! Please normalize\")\n",
    "\n",
    "    plt.grid(zorder=0)\n",
    "    plt.bar(range(belief_dist.shape[0]), belief_dist, color='r', zorder=3)\n",
    "    plt.xticks(range(belief_dist.shape[0]))\n",
    "    plt.title(title_str)\n",
    "    plt.show()"
   ]
  },
  {
   "cell_type": "code",
   "execution_count": 16,
   "metadata": {},
   "outputs": [],
   "source": [
    "#define names tumor names\n",
    "tumor_names = ['t1', 't2', 't3', 't4', 't5', 't6']\n",
    "\n",
    "#the same for resistances\n",
    "resistance_names = ['r1', 'r2', 'r3', 'r4', 'r5', 'r6']\n",
    "\n",
    "#treatment names\n",
    "treatment_names = ['no treatment', 'treatment']\n",
    "\n",
    "#define the state factor array \n",
    "num_states = [len(tumor_names), len(resistance_names), len(treatment_names)]\n",
    "num_factors = len(num_states)\n",
    "\n",
    "#no possible action for tumor and resistance factor\n",
    "tumor_action_names = ['Do nothing']\n",
    "resistance_action_names = ['Do nothing']\n",
    "\n",
    "#can decide to treat or not\n",
    "treatment_action_names = ['dont treat', 'treat']\n",
    "                      \n",
    "#Define number of control states\n",
    "num_controls = [len(tumor_action_names), len(resistance_action_names), len(treatment_action_names)]\n",
    "\n",
    "#Define observation states \n",
    "tumor_observation_names = tumor_names\n",
    "treatment_observation_names = treatment_names\n",
    "\n",
    "#only tumor level is and treatment are observable, but others could be added.\n",
    "num_observations = [len(tumor_observation_names), len(treatment_observation_names)]\n",
    "\n",
    "num_modalities = len(num_observations)\n",
    "\n"
   ]
  },
  {
   "cell_type": "code",
   "execution_count": 17,
   "metadata": {},
   "outputs": [],
   "source": [
    "#sim settings\n",
    "tumor_increase_prob = 0.3\n",
    "resistance_increase_prob = 0.5 \n",
    "treatment_effect_probs = [1, .8, .6, .5, .4, .2]\n",
    "resistance_decrease_probs = [.0, .2, .4, .7, .8, .9]\n",
    "tumor_starting_state = 0 \n",
    "resistance_starting_state = 0\n",
    "treatment_starting_state = 0"
   ]
  },
  {
   "cell_type": "markdown",
   "metadata": {},
   "source": [
    "## Code likelihoods"
   ]
  },
  {
   "cell_type": "code",
   "execution_count": 18,
   "metadata": {},
   "outputs": [
    {
     "data": {
      "image/png": "[encoded data removed]",
      "text/plain": [
       "<Figure size 600x600 with 1 Axes>"
      ]
     },
     "metadata": {},
     "output_type": "display_data"
    },
    {
     "data": {
      "image/png": "[encoded data removed]",
      "text/plain": [
       "<Figure size 600x600 with 1 Axes>"
      ]
     },
     "metadata": {},
     "output_type": "display_data"
    }
   ],
   "source": [
    "#Create A likelihood matrix per modality. Since there are only two observable outcomes, tumor level and treatment, there will be two likelihood arrays\n",
    "#Create an empty array to store the likelihoods\n",
    "A = utils.obj_array( num_modalities )\n",
    "\n",
    "#Create a likelihood matrix for the tumor modality\n",
    "A_tumor = np.zeros((len(tumor_observation_names), len(tumor_names), len(resistance_names), len(treatment_names)))\n",
    "                   \n",
    "#Fill in the likelihood matrix for the tumor modality, with perfect observation of the tumor level\n",
    "for i in range(len(tumor_observation_names)):\n",
    "    for j in range(len(tumor_names)):     \n",
    "        #if on the diagonal, the observation is correct\n",
    "        if i == j:\n",
    "            A_tumor[i, j, :, :] = 1.0\n",
    "\n",
    "#Store the likelihood matrix for the tumor modality in the likelihood array\n",
    "A[0] = A_tumor\n",
    "\n",
    "#Create a likelihood matrix for the treatment modality\n",
    "A_treatment = np.zeros((len(treatment_observation_names), len(tumor_names), len(resistance_names), len(treatment_names)))\n",
    "\n",
    "#Fill in the likelihood matrix for the treatment modality, with perfect observation of the treatment\n",
    "for i in range(len(treatment_observation_names)):\n",
    "    for j in range(len(treatment_names)):     \n",
    "        #if on the diagonal, the observation is correct\n",
    "        if i == j:\n",
    "            A_treatment[i, :, :, j] = 1.0\n",
    "\n",
    "#Store the likelihood matrix for the treatment modality in the likelihood array\n",
    "A[1] = A_treatment\n",
    "\n",
    "\n",
    "#Plot the likelihood matrix for the tumor modality to check. Pick the first state of the resistance factor and no treatment\n",
    "plot_likelihood(A_tumor[:, :, 0, 0], xlabels = tumor_names, ylabels = tumor_observation_names, title_str = \"Tumor likelihood distribution (A)\")\n",
    "\n",
    "#For treatments\n",
    "plot_likelihood(A_treatment[:, 1, 2, :], xlabels = treatment_names, ylabels = treatment_observation_names, title_str = \"Treatment likelihood names (A)\")"
   ]
  },
  {
   "cell_type": "markdown",
   "metadata": {},
   "source": [
    "## Transition probabilities\n",
    "Make a transition probability matrix for each state factor. Means that $B[0]$ correpsonds to tumor transition probabilities, and that $B[1]$ to resistance transition probabilties."
   ]
  },
  {
   "cell_type": "code",
   "execution_count": 142,
   "metadata": {},
   "outputs": [],
   "source": [
    "#Set the number of sub-arrays equal to number of factors\n",
    "B = utils.obj_array(num_factors) \n",
    "\n",
    "##change to function\n",
    "\n",
    "#Create B_tumor for tumor factor\n",
    "B_tumor = np.zeros( (len(tumor_names), len(tumor_names), len(resistance_names), len(treatment_names)))\n",
    "\n",
    "#fill in no treatment cancer progression. \n",
    "#rows correspond to the next state, columns to the current state. If treatment equals no treatment, the risk of tumor progression is simply the risk of tumor progression. #iterate through all resistance states and set one below the diagonal to the risk of tumor progression\n",
    "for i in range(len(resistance_names)):\n",
    "\n",
    "    #fill the diagonal with 1 - tumor_increase_prob\n",
    "    np.fill_diagonal(B_tumor[:, :, i, 0], 1 - tumor_increase_prob)\n",
    "\n",
    "    #fill the one below the diagonal with tumor_increase_prob\n",
    "    np.fill_diagonal(B_tumor[1:, :, i, 0], tumor_increase_prob)\n",
    "\n",
    "    #if tumor is at the top level, it can't increase anymore\n",
    "    B_tumor[-1, 5, i, 0] = 1.0\n",
    "\n",
    "\n",
    "#fill in treatment cancer progression. during treatment the chance of tumor progression depends on the resistance level.\n",
    "for i in range(len(resistance_names)):\n",
    "\n",
    "    #find the chance of treatment working given the resistance level\n",
    "    treatment_succeeds = treatment_effect_probs[i]\n",
    "\n",
    "    #the chance of reduction is the both the chance of progression doesn't happen and that treatment succeeds\n",
    "    chance_of_reduction = treatment_succeeds * (1 - tumor_increase_prob)\n",
    "\n",
    "    #chance of no reduction is the chance of progression happening and treatment succeding or treatment failing and progression not happening\n",
    "    chance_of_no_change =  treatment_succeeds * tumor_increase_prob + (1 - treatment_succeeds) * (1 - tumor_increase_prob)\n",
    "\n",
    "    #chance of increase in tumor is the chance of treatment failing and progression happening\n",
    "    chance_of_increase = (1 - treatment_succeeds) * tumor_increase_prob\n",
    "\n",
    "    #fill in transition probs for treatment working given the resistance level\n",
    "    np.fill_diagonal(B_tumor[:, 1:, i, 1], chance_of_reduction)\n",
    "    np.fill_diagonal(B_tumor[:, :, i, 1], chance_of_no_change)\n",
    "    np.fill_diagonal(B_tumor[1:, :, i, 1], chance_of_increase)\n",
    "\n",
    "    #if the tumor is at minimal state, it treatment isn't applied and it therefore can't be reduced any more. The chance of staying is therefore whatever is left after the risk of increasing and treatment failing. This is equal to tumor not progressing or tumor progressing and treatment working.\n",
    "    B_tumor[0,0,i,1] = 1 - chance_of_increase\n",
    "\n",
    "    #if the tumor is at maximal state, it can't increase anymore, the chance of staying is therefore everything except for reduction\n",
    "    B_tumor[-1, -1, i, 1] = 1 - chance_of_reduction\n",
    "\n",
    "\n",
    "#initialize the B_treatment matrix\n",
    "B_resistance = np.zeros((len(resistance_names), len(resistance_names), len(tumor_names), len(treatment_names)))\n",
    "\n",
    "\n",
    "#fill in no treatment resistance progression. Diagonal is chance of resistance not increasing, one below diagonal is chance of resistance increasing, and one above diaganol is chance of resistance decreasing\n",
    "for i in range(len(tumor_names)):\n",
    "\n",
    "    #Find the chance of resistance decreasing given the tumor level\n",
    "    resistance_decrease_prob = resistance_decrease_probs[i]\n",
    "\n",
    "    #chance of reducing the resistance level depends on the tumor level\n",
    "    chance_of_reduction_no_treatment = resistance_decrease_prob\n",
    "\n",
    "    #Probability of of no change can only happen if the resistance isn't reduced when treatment isn't given. \n",
    "    chance_of_no_change_no_treatment = 1 - chance_of_reduction_no_treatment\n",
    "\n",
    "    #fill in transition probs for no treatment\n",
    "    np.fill_diagonal(B_resistance[:, 1:, i, 0], chance_of_reduction_no_treatment)\n",
    "    np.fill_diagonal(B_resistance[:, :, i, 0], chance_of_no_change_no_treatment)\n",
    "\n",
    "    #fill in the risk of progressing in resistance. Happens if reduction is unsuccsesful and resistance increase is successful\n",
    "    chance_of_increase_treatment = resistance_increase_prob * (1 - resistance_decrease_prob)\n",
    "\n",
    "    #Only happens if resistance decrease is sucessfull and increase is unsuccesfull\n",
    "    chance_of_reduction_treatment =  (1 - resistance_increase_prob) * resistance_decrease_prob\n",
    "\n",
    "    #chance_of_no_change_treatment is the chance of resistance not increasing and the chance of resistance not decreasing or increasing and successfull reduction\n",
    "    chance_of_no_change_treatment = (1 - chance_of_reduction_treatment) * (1 - resistance_increase_prob) + chance_of_reduction_treatment * resistance_increase_prob \n",
    "\n",
    "\n",
    "    #fill in transition probs for treatment\n",
    "    np.fill_diagonal(B_resistance[:, 1:, i, 1], chance_of_reduction_treatment)\n",
    "    np.fill_diagonal(B_resistance[:, :, i, 1], chance_of_no_change_treatment)\n",
    "    np.fill_diagonal(B_resistance[1:, :, i, 1], chance_of_increase_treatment)\n",
    "\n",
    "#save the matricies to the B array\n",
    "B[0] = B_tumor\n",
    "B[1] = B_resistance\n",
    "\n",
    "#make b matrix for treatment"
   ]
  },
  {
   "cell_type": "markdown",
   "metadata": {},
   "source": [
    "## Make prior Dist Preferences\n",
    "\n",
    "One C-matrix per outcome-modality, where rows correspond to level and columns correspond to timepoints.\n",
    "\n",
    "\n",
    "Should it have temporal discounting? PYMDP looks different to matalb. Setting the probability of an outcome equal to the 100-timepoint and then softmaxing could probably do it.\n",
    "\n",
    "Perhaps make these emperically based on adapative protocol or random treatment behavior.\n",
    "\n"
   ]
  },
  {
   "cell_type": "code",
   "execution_count": 20,
   "metadata": {},
   "outputs": [],
   "source": [
    "C = utils.obj_array(num_observations) \n",
    "\n",
    "\n",
    "C_tumor = np.zeros(len(tumor_names))\n",
    "#Create C_tumor for tumor factor\n",
    "(range(len(tumor_names)))\n",
    "for i in range(len(tumor_names)):\n",
    "    C_tumor[i] = float(len(tumor_names) - i)\n",
    "\n",
    "C[:,0] = C_tumor\n",
    "C[:,1] = C_tumor\n",
    "\n"
   ]
  },
  {
   "cell_type": "markdown",
   "metadata": {},
   "source": [
    "## Setup prior beliefs D-vectors\n",
    "Could probably be varied over different for different states. Doesn't currently correspond to starting state"
   ]
  },
  {
   "cell_type": "code",
   "execution_count": 21,
   "metadata": {},
   "outputs": [],
   "source": [
    "D = utils.obj_array(num_factors)\n",
    "\n",
    "#set perfect knowledge for tumor\n",
    "D_tumor = np.zeros((len(tumor_names)))\n",
    "D_tumor[tumor_starting_state] = 1\n",
    "\n",
    "#set perfect knowledge for resistance\n",
    "D_resistance = np.zeros((len(resistance_names)))\n",
    "D_resistance[resistance_starting_state] = 1\n",
    "\n",
    "#set perfect knowledge for treatment\n",
    "D_treatment = np.zeros((len(treatment_names)))\n",
    "D_treatment[treatment_starting_state] = 1\n",
    "\n",
    "                "
   ]
  },
  {
   "cell_type": "markdown",
   "metadata": {},
   "source": [
    "## Setup Discrete Env Class\n",
    "Takes values from the simulation parameters such as the starting tumor_State, resistance state, progression risks of both tumor and resistance levels, and more. Use .step(\"action\"), to increment the enviorment, and .reset() to reset it."
   ]
  },
  {
   "cell_type": "code",
   "execution_count": 22,
   "metadata": {},
   "outputs": [
    {
     "name": "stdout",
     "output_type": "stream",
     "text": [
      "Starting tumor state is 0, starting resistance state is 0, starting treatment state is 0\n"
     ]
    }
   ],
   "source": [
    "\n",
    "\n",
    "class DiscreteTumorEnv():\n",
    "\n",
    "    #initialize the class, to set startint state to tuple (0,0)\n",
    "    def __init__(self, tumor_starting_state = tumor_starting_state, resistance_starting_state = resistance_starting_state, treatment_starting_state = treatment_starting_state, tumor_increase_prob = tumor_increase_prob, resistance_increase_prob = resistance_increase_prob, treatment_effect_probs = treatment_effect_probs, resistance_decrease_probs = resistance_decrease_probs):\n",
    "        \n",
    "        #simulation parameters\n",
    "        self.tumor_increase_prob = tumor_increase_prob\n",
    "        self.resistance_increase_prob = resistance_increase_prob\n",
    "        self.treatment_effect_probs = treatment_effect_probs\n",
    "        self.resistance_decrease_prob = resistance_decrease_probs\n",
    "\n",
    "        #set the starting state for each factor\n",
    "        self.init_tumor_state = tumor_starting_state\n",
    "        self.init_resistance_state = resistance_starting_state\n",
    "        self.init_treatment_state = treatment_starting_state\n",
    "\n",
    "        #set the current state to the starting state\n",
    "        self.current_tumor_state = self.init_tumor_state\n",
    "        self.current_resistance_state = self.init_resistance_state\n",
    "        self.current_treatment_state = self.init_treatment_state\n",
    "\n",
    "        print(f'Starting tumor state is {tumor_starting_state}, starting resistance state is {resistance_starting_state}, starting treatment state is {treatment_starting_state}')\n",
    "\n",
    "    #Define funciton update enviroment\n",
    "    def step(self, action_label):\n",
    "\n",
    "        #check if tumor progresses with probability set in the simulation parameters\n",
    "        self.current_tumor_state = self.current_tumor_state + np.random.binomial(1, p = self.tumor_increase_prob)\n",
    "\n",
    "        #### BREAK IF TUMOR state is 6\n",
    "\n",
    "        #if treatment is on, check if tumor is treated and whether resistance progresses. \n",
    "        if action_label == \"Treat\":\n",
    "            \n",
    "            #if tumor is more than initial level, reduce it by the treatment effect probability\n",
    "            if self.current_tumor_state > 0:\n",
    "                self.current_tumor_state = self.current_tumor_state - np.random.binomial(1, p = self.treatment_effect_probs[self.current_resistance_state])\n",
    "\n",
    "            #if resistance is more than 0 and less than maximal resistance states, increase it by the resistance increase probability\n",
    "            if  self.current_resistance_state < len(self.resistance_decrease_prob) - 1:\n",
    "                self.current_resistance_state = self.current_resistance_state + np.random.binomial(1, p = self.resistance_increase_prob)\n",
    "\n",
    "        #if treatment is off and resistance state is more than 0, check if resistance decreases\n",
    "        elif self.current_resistance_state > 0:\n",
    "            self.current_resistance_state = self.current_resistance_state - np.random.binomial(1, p = self.resistance_decrease_prob[self.current_tumor_state])\n",
    "\n",
    "        #print out states for behavior check\n",
    "        #print(f'Resistance state is {self.current_resistance_state}')\n",
    "        #print(f'Tumor state is {self.current_tumor_state}')\n",
    "\n",
    "        return self.current_tumor_state, self.current_resistance_state\n",
    "    \n",
    "    def reset(self):\n",
    "        #reset states to initial states\n",
    "        self.current_tumor_state = self.init_tumor_state\n",
    "        self.current_resistance_state = self.init_resistance_state\n",
    "        self.current_treatment_state = self.init_treatment_state\n",
    "\n",
    "        #print that the states have been reset\n",
    "        print(f'Starting tumor state is {self.current_tumor_state}, starting resistance state is {self.current_resistance_state}, starting treatment state is {self.current_treatment_state}')\n",
    "\n",
    "env = DiscreteTumorEnv()"
   ]
  },
  {
   "cell_type": "markdown",
   "metadata": {},
   "source": [
    "# Simulate adaptive strategy using the enviroment class\n",
    "Siumalates an adaptive therapy if tumor level reaches 4 that stops when the level gets to \n",
    "\n"
   ]
  },
  {
   "cell_type": "code",
   "execution_count": 23,
   "metadata": {},
   "outputs": [
    {
     "name": "stdout",
     "output_type": "stream",
     "text": [
      "Starting tumor state is 0, starting resistance state is 0, starting treatment state is 0\n"
     ]
    },
    {
     "data": {
      "text/plain": [
       "<matplotlib.legend.Legend at 0x14b55f980>"
      ]
     },
     "execution_count": 23,
     "metadata": {},
     "output_type": "execute_result"
    },
    {
     "data": {
      "image/png": "[encoded data removed]",
      "text/plain": [
       "<Figure size 640x480 with 1 Axes>"
      ]
     },
     "metadata": {},
     "output_type": "display_data"
    }
   ],
   "source": [
    "#reset .env\n",
    "env.reset()\n",
    "\n",
    "\n",
    "#make and empty list of dictionaries to store the states\n",
    "dicts = []\n",
    "\n",
    "#initialize the adaptive strategy\n",
    "adaptive_strategy = \"Dont treat\"\n",
    "\n",
    "## Simulation Loop \n",
    "for i in range(100):\n",
    "\n",
    "    tumor_state, resistance_state = env.step(adaptive_strategy)\n",
    "   \n",
    "    \n",
    "    #when tumor level hits 4, begin treatment\n",
    "    if tumor_state > 4:\n",
    "        adaptive_strategy = \"Treat\"\n",
    "\n",
    "    #when it comes below 1, stop treatment\n",
    "    if tumor_state < 2:\n",
    "        adaptive_strategy = \"Dont treat\"\n",
    "  \n",
    "    #store states in a dictionary\n",
    "    state_dict = {'tumor_state': tumor_state, 'resistance_state': resistance_state, 'treatment_state': adaptive_strategy}\n",
    "\n",
    "    #append the dictionary to the list of dictionaries\n",
    "    dicts.append(state_dict)\n",
    "    if tumor_state == 6:\n",
    "        break\n",
    "\n",
    "#convert the list of dictionaries to a pandas dataframe\n",
    "df = pd.DataFrame(dicts)\n",
    "\n",
    "\n",
    "#plot the tumor state and resistance state\n",
    "plt.plot(df['tumor_state'], label = 'Tumor level')\n",
    "plt.plot(df['resistance_state'], label = 'Resistance level', linestyle = '--')\n",
    "\n",
    "#shade in when treatment is on\n",
    "for i in range(len(df)):\n",
    "    if df['treatment_state'][i] == 'Treat':\n",
    "        plt.fill_between(x = [i, i+1], y1 = 0, y2 = 6, color = 'gray', alpha = 0.5)\n",
    "\n",
    "#show the labels\n",
    "plt.legend()"
   ]
  },
  {
   "cell_type": "markdown",
   "metadata": {},
   "source": [
    "## setup agent\n"
   ]
  },
  {
   "cell_type": "code",
   "execution_count": 141,
   "metadata": {},
   "outputs": [
    {
     "ename": "AttributeError",
     "evalue": "'NoneType' object has no attribute 'sum'",
     "output_type": "error",
     "traceback": [
      "\u001b[0;31m---------------------------------------------------------------------------\u001b[0m",
      "\u001b[0;31mAttributeError\u001b[0m                            Traceback (most recent call last)",
      "Cell \u001b[0;32mIn[141], line 1\u001b[0m\n\u001b[0;32m----> 1\u001b[0m agent \u001b[38;5;241m=\u001b[39m \u001b[43mpymdp\u001b[49m\u001b[38;5;241;43m.\u001b[39;49m\u001b[43magent\u001b[49m\u001b[38;5;241;43m.\u001b[39;49m\u001b[43mAgent\u001b[49m\u001b[43m(\u001b[49m\u001b[43mA\u001b[49m\u001b[43m \u001b[49m\u001b[38;5;241;43m=\u001b[39;49m\u001b[43m \u001b[49m\u001b[43mA\u001b[49m\u001b[43m,\u001b[49m\u001b[43m \u001b[49m\u001b[43mB\u001b[49m\u001b[43m \u001b[49m\u001b[38;5;241;43m=\u001b[39;49m\u001b[43m \u001b[49m\u001b[43mB\u001b[49m\u001b[43m,\u001b[49m\u001b[43m \u001b[49m\u001b[43mC\u001b[49m\u001b[43m \u001b[49m\u001b[38;5;241;43m=\u001b[39;49m\u001b[43m \u001b[49m\u001b[43mC\u001b[49m\u001b[43m,\u001b[49m\u001b[43m \u001b[49m\u001b[43mD\u001b[49m\u001b[43m \u001b[49m\u001b[38;5;241;43m=\u001b[39;49m\u001b[43m \u001b[49m\u001b[43mD\u001b[49m\u001b[43m)\u001b[49m\n\u001b[1;32m      3\u001b[0m \u001b[38;5;66;03m#prints wierd\u001b[39;00m\n\u001b[1;32m      4\u001b[0m \u001b[38;5;28mprint\u001b[39m(B[\u001b[38;5;241m0\u001b[39m][:,\u001b[38;5;241m0\u001b[39m,:,:]\u001b[38;5;241m.\u001b[39msum(axis \u001b[38;5;241m=\u001b[39m \u001b[38;5;241m0\u001b[39m))\n",
      "File \u001b[0;32m~/miniconda3/envs/ActiveInference/lib/python3.12/site-packages/pymdp/agent.py:111\u001b[0m, in \u001b[0;36mAgent.__init__\u001b[0;34m(self, A, B, C, D, E, pA, pB, pD, num_controls, policy_len, inference_horizon, control_fac_idx, policies, gamma, alpha, use_utility, use_states_info_gain, use_param_info_gain, action_selection, sampling_mode, inference_algo, inference_params, modalities_to_learn, lr_pA, factors_to_learn, lr_pB, lr_pD, use_BMA, policy_sep_prior, save_belief_hist)\u001b[0m\n\u001b[1;32m    105\u001b[0m     \u001b[38;5;28;01mraise\u001b[39;00m \u001b[38;5;167;01mTypeError\u001b[39;00m(\n\u001b[1;32m    106\u001b[0m         \u001b[38;5;124m'\u001b[39m\u001b[38;5;124mB matrix must be a numpy array\u001b[39m\u001b[38;5;124m'\u001b[39m\n\u001b[1;32m    107\u001b[0m     )\n\u001b[1;32m    109\u001b[0m \u001b[38;5;28mself\u001b[39m\u001b[38;5;241m.\u001b[39mB \u001b[38;5;241m=\u001b[39m utils\u001b[38;5;241m.\u001b[39mto_obj_array(B)\n\u001b[0;32m--> 111\u001b[0m \u001b[38;5;28;01massert\u001b[39;00m \u001b[43mutils\u001b[49m\u001b[38;5;241;43m.\u001b[39;49m\u001b[43mis_normalized\u001b[49m\u001b[43m(\u001b[49m\u001b[38;5;28;43mself\u001b[39;49m\u001b[38;5;241;43m.\u001b[39;49m\u001b[43mB\u001b[49m\u001b[43m)\u001b[49m, \u001b[38;5;124m\"\u001b[39m\u001b[38;5;124mB matrix is not normalized (i.e. B.sum(axis = 0) must all equal 1.0)\u001b[39m\u001b[38;5;124m\"\u001b[39m\n\u001b[1;32m    113\u001b[0m \u001b[38;5;66;03m# Determine number of hidden state factors and their dimensionalities\u001b[39;00m\n\u001b[1;32m    114\u001b[0m \u001b[38;5;28mself\u001b[39m\u001b[38;5;241m.\u001b[39mnum_states \u001b[38;5;241m=\u001b[39m [\u001b[38;5;28mself\u001b[39m\u001b[38;5;241m.\u001b[39mB[f]\u001b[38;5;241m.\u001b[39mshape[\u001b[38;5;241m0\u001b[39m] \u001b[38;5;28;01mfor\u001b[39;00m f \u001b[38;5;129;01min\u001b[39;00m \u001b[38;5;28mrange\u001b[39m(\u001b[38;5;28mlen\u001b[39m(\u001b[38;5;28mself\u001b[39m\u001b[38;5;241m.\u001b[39mB))]\n",
      "File \u001b[0;32m~/miniconda3/envs/ActiveInference/lib/python3.12/site-packages/pymdp/utils.py:244\u001b[0m, in \u001b[0;36mis_normalized\u001b[0;34m(dist)\u001b[0m\n\u001b[1;32m    242\u001b[0m normed_arrays \u001b[38;5;241m=\u001b[39m []\n\u001b[1;32m    243\u001b[0m \u001b[38;5;28;01mfor\u001b[39;00m i, arr \u001b[38;5;129;01min\u001b[39;00m \u001b[38;5;28menumerate\u001b[39m(dist):\n\u001b[0;32m--> 244\u001b[0m     column_sums \u001b[38;5;241m=\u001b[39m \u001b[43marr\u001b[49m\u001b[38;5;241;43m.\u001b[39;49m\u001b[43msum\u001b[49m(axis\u001b[38;5;241m=\u001b[39m\u001b[38;5;241m0\u001b[39m)\n\u001b[1;32m    245\u001b[0m     normed_arrays\u001b[38;5;241m.\u001b[39mappend(np\u001b[38;5;241m.\u001b[39mallclose(column_sums, np\u001b[38;5;241m.\u001b[39mones_like(column_sums)))\n\u001b[1;32m    246\u001b[0m out \u001b[38;5;241m=\u001b[39m \u001b[38;5;28mall\u001b[39m(normed_arrays)\n",
      "\u001b[0;31mAttributeError\u001b[0m: 'NoneType' object has no attribute 'sum'"
     ]
    }
   ],
   "source": [
    "agent = pymdp.agent.Agent(A = A, B = B, C = C, D = D)\n",
    "\n",
    "#prints wierd\n",
    "print(B[0][:,0,:,:].sum(axis = 0))\n",
    "print(B[0][:,4,:,1].sum(axis = 0))"
   ]
  },
  {
   "cell_type": "code",
   "execution_count": null,
   "metadata": {},
   "outputs": [],
   "source": []
  },
  {
   "cell_type": "code",
   "execution_count": null,
   "metadata": {},
   "outputs": [],
   "source": []
  }
 ],
 "metadata": {
  "kernelspec": {
   "display_name": "ActiveInference",
   "language": "python",
   "name": "python3"
  },
  "language_info": {
   "codemirror_mode": {
    "name": "ipython",
    "version": 3
   },
   "file_extension": ".py",
   "mimetype": "text/x-python",
   "name": "python",
   "nbconvert_exporter": "python",
   "pygments_lexer": "ipython3",
   "version": "3.12.2"
  }
 },
 "nbformat": 4,
 "nbformat_minor": 2
}
